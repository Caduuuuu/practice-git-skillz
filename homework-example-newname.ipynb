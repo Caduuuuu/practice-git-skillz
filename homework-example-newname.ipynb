{
 "cells": [
  {
   "cell_type": "code",
   "execution_count": null,
   "metadata": {},
   "outputs": [],
   "source": [
    "print('Hello world')"
   ]
  },
  {
   "cell_type": "markdown",
   "metadata": {},
   "source": [
    "# this is a big heading\n",
    "\n",
    "and this is just some plain text"
   ]
  },
  {
   "cell_type": "markdown",
   "metadata": {},
   "source": [
    "## this is a smaller heading\n",
    "\n",
    "followed by more random text"
   ]
  },
  {
   "cell_type": "code",
   "execution_count": 3,
   "metadata": {},
   "outputs": [
    {
     "name": "stdout",
     "output_type": "stream",
     "text": [
      "what day of the week is it?Satuurday\n",
      "Bugger all!\n"
     ]
    }
   ],
   "source": [
    "day  = input(\"what day of the week is it?\")\n",
    "if day == \"Saturday\" or day == \"sunday\":\n",
    "    print(\"Enjoy the weekend mate!\")\n",
    "elif day == \"Friday\":\n",
    "    print(\"Woohoo, almost the weekend baby!\")\n",
    "    \n",
    "else :\n",
    "    print(\"Bugger all!\")"
   ]
  }
 ],
 "metadata": {
  "kernelspec": {
   "display_name": "Python 3 (ipykernel)",
   "language": "python",
   "name": "python3"
  },
  "language_info": {
   "codemirror_mode": {
    "name": "ipython",
    "version": 3
   },
   "file_extension": ".py",
   "mimetype": "text/x-python",
   "name": "python",
   "nbconvert_exporter": "python",
   "pygments_lexer": "ipython3",
   "version": "3.8.13"
  }
 },
 "nbformat": 4,
 "nbformat_minor": 2
}
